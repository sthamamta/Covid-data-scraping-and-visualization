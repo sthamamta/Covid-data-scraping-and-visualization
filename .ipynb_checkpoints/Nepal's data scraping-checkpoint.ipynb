{
 "cells": [
  {
   "cell_type": "code",
   "execution_count": 1,
   "id": "unlike-adapter",
   "metadata": {},
   "outputs": [],
   "source": [
    "from requests import get\n",
    "from bs4 import BeautifulSoup\n",
    "import pandas as pd\n",
    "import requests\n",
    "import matplotlib.pyplot as plt"
   ]
  },
  {
   "cell_type": "code",
   "execution_count": 2,
   "id": "dependent-flash",
   "metadata": {},
   "outputs": [],
   "source": [
    "url = \"https://www.worldometers.info/coronavirus/country/nepal/\"\n",
    "req = requests.get(url)\n",
    "soup = BeautifulSoup(req.text, \"html.parser\")"
   ]
  },
  {
   "cell_type": "code",
   "execution_count": 3,
   "id": "rental-glucose",
   "metadata": {},
   "outputs": [
    {
     "data": {
      "text/plain": [
       "['January 22 ',\n",
       " 'January 21 ',\n",
       " 'January 20 ',\n",
       " 'January 19 ',\n",
       " 'January 18 ',\n",
       " 'January 17 ']"
      ]
     },
     "execution_count": 3,
     "metadata": {},
     "output_type": "execute_result"
    }
   ],
   "source": [
    "news_date=[]\n",
    "dates = soup.findAll(\"button\", {'style': 'margin-top:30px;'})\n",
    "for item in dates:\n",
    "    news_date.append(item.get_text())\n",
    "news_date"
   ]
  },
  {
   "cell_type": "code",
   "execution_count": 4,
   "id": "little-offer",
   "metadata": {},
   "outputs": [],
   "source": [
    "elements = soup.findAll(\"div\", {'class': 'news_body'})\n",
    "   "
   ]
  },
  {
   "cell_type": "code",
   "execution_count": 5,
   "id": "medical-finger",
   "metadata": {},
   "outputs": [],
   "source": [
    "new_cases=[]\n",
    "new_deaths=[]\n",
    "for ul in elements:\n",
    "    for li in ul.findAll('li'):\n",
    "        i=0;\n",
    "        for txt in li.findAll('strong'):\n",
    "            if i==0:\n",
    "                new_cases.append(txt.get_text().split()[0].replace(\"'\", \"\"))\n",
    "            if i==1:\n",
    "                new_deaths.append(txt.get_text().split()[0].replace(\"'\", \"\"))\n",
    "            i+=1"
   ]
  },
  {
   "cell_type": "code",
   "execution_count": 6,
   "id": "affecting-dimension",
   "metadata": {},
   "outputs": [],
   "source": [
    "new_deaths=new_deaths[1:]\n",
    "new_cases=new_cases[1:]"
   ]
  },
  {
   "cell_type": "code",
   "execution_count": 8,
   "id": "dynamic-somewhere",
   "metadata": {},
   "outputs": [],
   "source": [
    "data_table = {\n",
    "\"Date\": news_date,\n",
    "\"New Cases\": new_cases,\n",
    "\"New Deaths\": new_deaths,\n",
    "}\n",
    "df = pd.DataFrame.from_dict(data_table, orient='index').transpose()\n",
    "df.set_index('Date',inplace=True)"
   ]
  },
  {
   "cell_type": "code",
   "execution_count": 14,
   "id": "promising-machinery",
   "metadata": {},
   "outputs": [
    {
     "data": {
      "text/plain": [
       "New Cases     object\n",
       "New Deaths    object\n",
       "dtype: object"
      ]
     },
     "execution_count": 14,
     "metadata": {},
     "output_type": "execute_result"
    }
   ],
   "source": [
    "df.dtypes"
   ]
  },
  {
   "cell_type": "code",
   "execution_count": 15,
   "id": "linear-palestine",
   "metadata": {},
   "outputs": [],
   "source": [
    "for column in df: \n",
    "    df[column] = pd.to_numeric(df[column], errors='coerce')"
   ]
  },
  {
   "cell_type": "code",
   "execution_count": 16,
   "id": "nearby-passport",
   "metadata": {},
   "outputs": [
    {
     "data": {
      "text/plain": [
       "New Cases     int64\n",
       "New Deaths    int64\n",
       "dtype: object"
      ]
     },
     "execution_count": 16,
     "metadata": {},
     "output_type": "execute_result"
    }
   ],
   "source": [
    "df.dtypes"
   ]
  },
  {
   "cell_type": "code",
   "execution_count": 17,
   "id": "according-turner",
   "metadata": {},
   "outputs": [
    {
     "data": {
      "text/plain": [
       "<AxesSubplot:xlabel='Date'>"
      ]
     },
     "execution_count": 17,
     "metadata": {},
     "output_type": "execute_result"
    },
    {
     "data": {
      "image/png": "[encoded data removed]",
      "text/plain": [
       "<Figure size 432x288 with 1 Axes>"
      ]
     },
     "metadata": {
      "needs_background": "light"
     },
     "output_type": "display_data"
    }
   ],
   "source": [
    "df.plot.line()"
   ]
  },
  {
   "cell_type": "markdown",
   "id": "applicable-round",
   "metadata": {},
   "source": [
    "# Comparing Nepal with Other countries"
   ]
  },
  {
   "cell_type": "code",
   "execution_count": 89,
   "id": "floral-wichita",
   "metadata": {},
   "outputs": [],
   "source": [
    "def scrap_function(url,country_name,country_dict,new_cases=False,new_deaths=False):\n",
    "    country_dict.update({country_name: []})\n",
    "    req = requests.get(url)\n",
    "    soup = BeautifulSoup(req.text, \"html.parser\")\n",
    "    elements = soup.findAll(\"div\", {'class': 'news_body'})\n",
    "    for ul in elements:\n",
    "        for li in ul.findAll('li'):\n",
    "            i=0;\n",
    "            for txt in li.findAll('strong'):\n",
    "                if i==0 and new_cases:\n",
    "                      country_dict[country_name].append(txt.get_text().split()[0].replace(\"'\", \"\"))\n",
    "                if i==1 and new_deaths:\n",
    "                    country_dict[country_name].append(txt.get_text().split()[0].replace(\"'\", \"\"))\n",
    "                i+=1\n",
    "    country_dict[country_name].pop()\n",
    " \n",
    "    "
   ]
  },
  {
   "cell_type": "code",
   "execution_count": 99,
   "id": "determined-washington",
   "metadata": {},
   "outputs": [],
   "source": [
    "country_url={\n",
    "    \"China\":\"https://www.worldometers.info/coronavirus/country/china/\",\n",
    "    \"Nepal\":\"https://www.worldometers.info/coronavirus/country/nepal/\",\n",
    "    \"South Korea\":\"https://www.worldometers.info/coronavirus/country/south-korea/\",\n",
    "}\n",
    "# scrap_function('https://www.worldometers.info/coronavirus/country/iran/','Iran',country_dict,new_cases=True)"
   ]
  },
  {
   "cell_type": "code",
   "execution_count": 100,
   "id": "removable-retention",
   "metadata": {},
   "outputs": [],
   "source": [
    "country_dict = {}\n",
    "for country,url in country_url.items():\n",
    "    scrap_function(url,country,country_dict,new_cases=True)"
   ]
  },
  {
   "cell_type": "code",
   "execution_count": 101,
   "id": "measured-spine",
   "metadata": {},
   "outputs": [
    {
     "data": {
      "text/plain": [
       "{'China': ['80', '107', '103', '144', '103', '118'],\n",
       " 'Nepal': ['232', '302', '336', '318', '348', '322'],\n",
       " 'South Korea': ['392', '430', '344', '400', '403', '386']}"
      ]
     },
     "execution_count": 101,
     "metadata": {},
     "output_type": "execute_result"
    }
   ],
   "source": [
    "country_dict\n",
    "# china\n",
    "# nepal\n",
    "# south korea"
   ]
  },
  {
   "cell_type": "code",
   "execution_count": 102,
   "id": "periodic-amsterdam",
   "metadata": {},
   "outputs": [
    {
     "data": {
      "text/plain": [
       "{'China': ['80', '107', '103', '144', '103', '118'],\n",
       " 'Nepal': ['232', '302', '336', '318', '348', '322'],\n",
       " 'South Korea': ['392', '430', '344', '400', '403', '386'],\n",
       " 'Dates': ['January 22 ',\n",
       "  'January 21 ',\n",
       "  'January 20 ',\n",
       "  'January 19 ',\n",
       "  'January 18 ',\n",
       "  'January 17 ']}"
      ]
     },
     "execution_count": 102,
     "metadata": {},
     "output_type": "execute_result"
    }
   ],
   "source": [
    "country_dict.update({'Dates': news_date})\n",
    "country_dict"
   ]
  },
  {
   "cell_type": "code",
   "execution_count": 103,
   "id": "suitable-granny",
   "metadata": {},
   "outputs": [
    {
     "data": {
      "text/html": [
       "<div>\n",
       "<style scoped>\n",
       "    .dataframe tbody tr th:only-of-type {\n",
       "        vertical-align: middle;\n",
       "    }\n",
       "\n",
       "    .dataframe tbody tr th {\n",
       "        vertical-align: top;\n",
       "    }\n",
       "\n",
       "    .dataframe thead th {\n",
       "        text-align: right;\n",
       "    }\n",
       "</style>\n",
       "<table border=\"1\" class=\"dataframe\">\n",
       "  <thead>\n",
       "    <tr style=\"text-align: right;\">\n",
       "      <th></th>\n",
       "      <th>China</th>\n",
       "      <th>Nepal</th>\n",
       "      <th>South Korea</th>\n",
       "    </tr>\n",
       "    <tr>\n",
       "      <th>Dates</th>\n",
       "      <th></th>\n",
       "      <th></th>\n",
       "      <th></th>\n",
       "    </tr>\n",
       "  </thead>\n",
       "  <tbody>\n",
       "    <tr>\n",
       "      <th>January 22</th>\n",
       "      <td>80</td>\n",
       "      <td>232</td>\n",
       "      <td>392</td>\n",
       "    </tr>\n",
       "    <tr>\n",
       "      <th>January 21</th>\n",
       "      <td>107</td>\n",
       "      <td>302</td>\n",
       "      <td>430</td>\n",
       "    </tr>\n",
       "    <tr>\n",
       "      <th>January 20</th>\n",
       "      <td>103</td>\n",
       "      <td>336</td>\n",
       "      <td>344</td>\n",
       "    </tr>\n",
       "    <tr>\n",
       "      <th>January 19</th>\n",
       "      <td>144</td>\n",
       "      <td>318</td>\n",
       "      <td>400</td>\n",
       "    </tr>\n",
       "    <tr>\n",
       "      <th>January 18</th>\n",
       "      <td>103</td>\n",
       "      <td>348</td>\n",
       "      <td>403</td>\n",
       "    </tr>\n",
       "    <tr>\n",
       "      <th>January 17</th>\n",
       "      <td>118</td>\n",
       "      <td>322</td>\n",
       "      <td>386</td>\n",
       "    </tr>\n",
       "  </tbody>\n",
       "</table>\n",
       "</div>"
      ],
      "text/plain": [
       "            China Nepal South Korea\n",
       "Dates                              \n",
       "January 22     80   232         392\n",
       "January 21    107   302         430\n",
       "January 20    103   336         344\n",
       "January 19    144   318         400\n",
       "January 18    103   348         403\n",
       "January 17    118   322         386"
      ]
     },
     "execution_count": 103,
     "metadata": {},
     "output_type": "execute_result"
    }
   ],
   "source": [
    "df_countries=pd.DataFrame.from_dict(country_dict).set_index('Dates')\n",
    "df_countries"
   ]
  },
  {
   "cell_type": "code",
   "execution_count": 104,
   "id": "opening-transition",
   "metadata": {},
   "outputs": [
    {
     "data": {
      "image/png": "[encoded data removed]",
      "text/plain": [
       "<Figure size 432x288 with 1 Axes>"
      ]
     },
     "metadata": {
      "needs_background": "light"
     },
     "output_type": "display_data"
    }
   ],
   "source": [
    "for column in df_countries: \n",
    "    df_countries[column] = pd.to_numeric(df_countries[column], errors='coerce')\n",
    "lines = df_countries.plot.line()\n",
    "#south korea has higher new cases in recent dates than Nepal, China"
   ]
  },
  {
   "cell_type": "code",
   "execution_count": null,
   "id": "brief-spine",
   "metadata": {},
   "outputs": [],
   "source": []
  },
  {
   "cell_type": "markdown",
   "id": "robust-knife",
   "metadata": {},
   "source": [
    "# Comparing Nepal with other countries in daily new death cases"
   ]
  },
  {
   "cell_type": "code",
   "execution_count": 110,
   "id": "framed-sullivan",
   "metadata": {},
   "outputs": [],
   "source": [
    "country_death_cases_dict={}\n",
    "for country,url in country_url.items():\n",
    "    scrap_function(url,country,country_death_cases_dict,new_deaths=True)"
   ]
  },
  {
   "cell_type": "code",
   "execution_count": 111,
   "id": "handmade-yacht",
   "metadata": {},
   "outputs": [
    {
     "data": {
      "text/plain": [
       "{'China': ['China', 'China', 'China', 'China', 'China', 'China'],\n",
       " 'Nepal': ['8', '7', '4', '6', '4', '6'],\n",
       " 'South Korea': ['12', '9', '12', '16', '17', '19'],\n",
       " 'Dates': ['January 22 ',\n",
       "  'January 21 ',\n",
       "  'January 20 ',\n",
       "  'January 19 ',\n",
       "  'January 18 ',\n",
       "  'January 17 ']}"
      ]
     },
     "execution_count": 111,
     "metadata": {},
     "output_type": "execute_result"
    }
   ],
   "source": [
    "country_death_cases_dict.update({'Dates': news_date})\n",
    "country_death_cases_dict"
   ]
  },
  {
   "cell_type": "code",
   "execution_count": 120,
   "id": "dominican-european",
   "metadata": {},
   "outputs": [
    {
     "data": {
      "text/html": [
       "<div>\n",
       "<style scoped>\n",
       "    .dataframe tbody tr th:only-of-type {\n",
       "        vertical-align: middle;\n",
       "    }\n",
       "\n",
       "    .dataframe tbody tr th {\n",
       "        vertical-align: top;\n",
       "    }\n",
       "\n",
       "    .dataframe thead th {\n",
       "        text-align: right;\n",
       "    }\n",
       "</style>\n",
       "<table border=\"1\" class=\"dataframe\">\n",
       "  <thead>\n",
       "    <tr style=\"text-align: right;\">\n",
       "      <th></th>\n",
       "      <th>China</th>\n",
       "      <th>Nepal</th>\n",
       "      <th>South Korea</th>\n",
       "    </tr>\n",
       "    <tr>\n",
       "      <th>Dates</th>\n",
       "      <th></th>\n",
       "      <th></th>\n",
       "      <th></th>\n",
       "    </tr>\n",
       "  </thead>\n",
       "  <tbody>\n",
       "    <tr>\n",
       "      <th>January 22</th>\n",
       "      <td>0</td>\n",
       "      <td>8</td>\n",
       "      <td>12</td>\n",
       "    </tr>\n",
       "    <tr>\n",
       "      <th>January 21</th>\n",
       "      <td>0</td>\n",
       "      <td>7</td>\n",
       "      <td>9</td>\n",
       "    </tr>\n",
       "    <tr>\n",
       "      <th>January 20</th>\n",
       "      <td>0</td>\n",
       "      <td>4</td>\n",
       "      <td>12</td>\n",
       "    </tr>\n",
       "    <tr>\n",
       "      <th>January 19</th>\n",
       "      <td>0</td>\n",
       "      <td>6</td>\n",
       "      <td>16</td>\n",
       "    </tr>\n",
       "    <tr>\n",
       "      <th>January 18</th>\n",
       "      <td>0</td>\n",
       "      <td>4</td>\n",
       "      <td>17</td>\n",
       "    </tr>\n",
       "    <tr>\n",
       "      <th>January 17</th>\n",
       "      <td>0</td>\n",
       "      <td>6</td>\n",
       "      <td>19</td>\n",
       "    </tr>\n",
       "  </tbody>\n",
       "</table>\n",
       "</div>"
      ],
      "text/plain": [
       "             China Nepal South Korea\n",
       "Dates                               \n",
       "January 22       0     8          12\n",
       "January 21       0     7           9\n",
       "January 20       0     4          12\n",
       "January 19       0     6          16\n",
       "January 18       0     4          17\n",
       "January 17       0     6          19"
      ]
     },
     "execution_count": 120,
     "metadata": {},
     "output_type": "execute_result"
    }
   ],
   "source": [
    "df_countries_deaths=pd.DataFrame.from_dict(country_death_cases_dict).set_index('Dates')\n",
    "df_countries_deaths[\"China\"]= df_countries_deaths[\"China\"].replace(\"China\", 0) \n",
    "df_countries_deaths"
   ]
  },
  {
   "cell_type": "code",
   "execution_count": 121,
   "id": "iraqi-afternoon",
   "metadata": {},
   "outputs": [
    {
     "data": {
      "image/png": "[encoded data removed]",
      "text/plain": [
       "<Figure size 432x288 with 1 Axes>"
      ]
     },
     "metadata": {
      "needs_background": "light"
     },
     "output_type": "display_data"
    }
   ],
   "source": [
    "for column in df_countries_deaths: \n",
    "    df_countries_deaths[column] = pd.to_numeric(df_countries_deaths[column], errors='coerce')\n",
    "lines = df_countries_deaths.plot.line()"
   ]
  },
  {
   "cell_type": "code",
   "execution_count": null,
   "id": "worldwide-english",
   "metadata": {},
   "outputs": [],
   "source": []
  }
 ],
 "metadata": {
  "kernelspec": {
   "display_name": "Python 3",
   "language": "python",
   "name": "python3"
  },
  "language_info": {
   "codemirror_mode": {
    "name": "ipython",
    "version": 3
   },
   "file_extension": ".py",
   "mimetype": "text/x-python",
   "name": "python",
   "nbconvert_exporter": "python",
   "pygments_lexer": "ipython3",
   "version": "3.8.5"
  }
 },
 "nbformat": 4,
 "nbformat_minor": 5
}
